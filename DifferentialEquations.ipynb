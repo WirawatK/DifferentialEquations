{
 "cells": [
  {
   "cell_type": "markdown",
   "id": "primary-resort",
   "metadata": {},
   "source": [
    "# Homework project for the \"Differential Equations\" course module"
   ]
  },
  {
   "cell_type": "markdown",
   "id": "diverse-efficiency",
   "metadata": {},
   "source": [
    "1. Solve the wave equation `d^2t u(t,x) = d^2x u(t,x)` numerically. Use a `1+1`-dimensional domain, and use Dirichlet boundary conditions `u(t,-L) = u(t,+L) = 0`. Use the spatial domain bounds `[-1; +1]`, and use the Gaussian-like function `f(t,x) = A exp(-1/2 sin(2pi (x-t))^2 / W^2)` as initial condition. Use `L=1, A=1, W=0.2` as parameters. Evolve from `t=0` to `t=4L`, i.e. for two crossing times. Plot the result."
   ]
  },
  {
   "cell_type": "markdown",
   "id": "banner-special",
   "metadata": {},
   "source": [
    "2. Vary the time step size `dt`. If you choose `dt` too large, the discrete system will be unstable. What is the stability limit? Why does this happen? How could you avoid this limit?"
   ]
  },
  {
   "cell_type": "markdown",
   "id": "wireless-effect",
   "metadata": {},
   "source": [
    "3. The energy density of a scalar wave is `epsilon(t,x) = 1/2 ((d/dt u(t,x))^2 + ((d/dx u(t,x))^2)`. Calculate the energy density as a function of space and time for your solution. Plot the result."
   ]
  },
  {
   "cell_type": "markdown",
   "id": "fatal-latitude",
   "metadata": {},
   "source": [
    "4. To calculate the total energy `E(t)` as a function of time, you need to integrate it over space. One way to do so is using the function below. Calculate and show the total energy `E(t)` as a function of time. How well is the energy conserved? How does this depend on the grid spacings `dx` and `dt`?"
   ]
  },
  {
   "cell_type": "markdown",
   "id": "perceived-scanning",
   "metadata": {},
   "source": [
    "***"
   ]
  },
  {
   "cell_type": "markdown",
   "id": "democratic-instrumentation",
   "metadata": {},
   "source": [
    "### 1) Solving wave equation\n",
    "\\begin{equation}\n",
    "\\partial_{xx} u(t,x) = \\partial_{tt} u(t,x)\n",
    "\\end{equation}"
   ]
  },
  {
   "cell_type": "markdown",
   "id": "canadian-overall",
   "metadata": {},
   "source": [
    "1. Solve the wave equation `d^2t u(t,x) = d^2x u(t,x)` numerically. Use a `1+1`-dimensional domain, and use Dirichlet boundary conditions `u(t,-L) = u(t,+L) = 0`. Use the spatial domain bounds `[-1; +1]`, and use the Gaussian-like function `f(t,x) = A exp(-1/2 sin(2pi (x-t))^2 / W^2)` as initial condition. Use `L=1, A=1, W=0.2` as parameters. Evolve from `t=0` to `t=4L`, i.e. for two crossing times. Plot the result."
   ]
  },
  {
   "cell_type": "code",
   "execution_count": 369,
   "id": "alpha-picture",
   "metadata": {},
   "outputs": [],
   "source": [
    "using CairoMakie\n",
    "# Parameters\n",
    "L = 1\n",
    "A = 1\n",
    "W = 0.2;\n",
    "\n",
    "# Boundary conditions\n",
    "# u(t,-L) = 0\n",
    "# u(t,+L) = 0;"
   ]
  },
  {
   "cell_type": "code",
   "execution_count": 370,
   "id": "strategic-allergy",
   "metadata": {},
   "outputs": [
    {
     "data": {
      "text/plain": [
       "coords (generic function with 1 method)"
      ]
     },
     "execution_count": 370,
     "metadata": {},
     "output_type": "execute_result"
    }
   ],
   "source": [
    "function coords(nn, ni, dt, dx)\n",
    "    t = [n * dt for i in 0:ni, n in 0:nn]\n",
    "    x = [(i * dx)-1 for i in 0:ni, n in 0:nn]\n",
    "    return t, x\n",
    "end"
   ]
  },
  {
   "cell_type": "code",
   "execution_count": 371,
   "id": "bottom-norway",
   "metadata": {},
   "outputs": [
    {
     "data": {
      "text/plain": [
       "(0.01, 0.01)"
      ]
     },
     "execution_count": 371,
     "metadata": {},
     "output_type": "execute_result"
    }
   ],
   "source": [
    "nn = 400\n",
    "ni = 200\n",
    "dt = (4*L)/ (nn)\n",
    "dx = (2) / (ni)\n",
    "\n",
    "t, x = coords(nn, ni, dt, dx);\n",
    "(dt,dx)"
   ]
  },
  {
   "cell_type": "code",
   "execution_count": 372,
   "id": "quiet-essex",
   "metadata": {},
   "outputs": [
    {
     "data": {
      "text/plain": [
       "Gaussianlike (generic function with 1 method)"
      ]
     },
     "execution_count": 372,
     "metadata": {},
     "output_type": "execute_result"
    }
   ],
   "source": [
    "function Gaussianlike(t, x)\n",
    "    ni, nn = size(t)\n",
    "    u = zeros(ni, nn)\n",
    "    # Initial conditions for first two points in time\n",
    "    for n in 1:2, i in 1:ni\n",
    "        u[i, n] = A * exp.(-1/2* sin.(2*π*(x[i, n]-t[i, n])).^2) / W^2\n",
    "    end\n",
    "    return u\n",
    "end"
   ]
  },
  {
   "cell_type": "code",
   "execution_count": 373,
   "id": "strong-observation",
   "metadata": {},
   "outputs": [
    {
     "data": {
      "text/plain": [
       "Gaussian (generic function with 1 method)"
      ]
     },
     "execution_count": 373,
     "metadata": {},
     "output_type": "execute_result"
    }
   ],
   "source": [
    "#Test function\n",
    "function Gaussian(t, x)\n",
    "    ni, nn = size(t)\n",
    "    u = zeros(ni, nn)\n",
    "    # Initial conditions for first two points in time\n",
    "    for n in 1:2, i in 1:ni\n",
    "        u[i, n] = sin.(x[i, n]) #A * (1-x[i, n].^2) .* sin.(x[i, n]) #exp.(-1/2*(x[i, n].^2) )/ W^2\n",
    "    end\n",
    "    return u\n",
    "end"
   ]
  },
  {
   "cell_type": "code",
   "execution_count": 374,
   "id": "departmental-alert",
   "metadata": {},
   "outputs": [
    {
     "data": {
      "text/plain": [
       "evolve_point! (generic function with 1 method)"
      ]
     },
     "execution_count": 374,
     "metadata": {},
     "output_type": "execute_result"
    }
   ],
   "source": [
    "#Find the solution at one interior point u[i,n]\n",
    "function evolve_point!(u, dt, dx, n, i)\n",
    "    ni, nn = size(u)\n",
    "    # Finte difference for second derivative in x direction at point [i,n-1]\n",
    "    uxx = (u[i-1,n-1] - 2*u[i,n-1] + u[i+1,n-1])/dx^2\n",
    "    # Time derivative\n",
    "    # utt = (u[i,n-2] - 2*u[i,n-1] + u[i,n])/dt^2\n",
    "    # Wave equation\n",
    "    # utt = uxx\n",
    "    # Solve for u[i,n]\n",
    "    u[i,n] = uxx * dt^2 - u[i,n-2] + 2*u[i,n-1]\n",
    "    return \n",
    "end"
   ]
  },
  {
   "cell_type": "code",
   "execution_count": 375,
   "id": "earned-linux",
   "metadata": {
    "tags": []
   },
   "outputs": [
    {
     "data": {
      "text/plain": [
       "evolve_step! (generic function with 1 method)"
      ]
     },
     "execution_count": 375,
     "metadata": {},
     "output_type": "execute_result"
    }
   ],
   "source": [
    "# Find the solution for one point in time `n`\n",
    "function evolve_step!(u, dt, dx, n)\n",
    "    ni, nn = size(u)\n",
    "    #Apply boundary condtion at left boundary\n",
    "    u[1,n] = 0\n",
    "    #Evolve interior\n",
    "    for i in 2:ni-1\n",
    "        evolve_point!(u, dt, dx, n, i)\n",
    "    end\n",
    "    #Apply boundary condtion at right boundary\n",
    "    u[ni,n] = 0\n",
    "    return\n",
    "end"
   ]
  },
  {
   "cell_type": "code",
   "execution_count": 376,
   "id": "literary-valuable",
   "metadata": {},
   "outputs": [
    {
     "data": {
      "text/plain": [
       "evolve! (generic function with 1 method)"
      ]
     },
     "execution_count": 376,
     "metadata": {},
     "output_type": "execute_result"
    }
   ],
   "source": [
    "#Find the solution everywhere\n",
    "function evolve!(u, dt, dx)\n",
    "    ni, nn = size(u)\n",
    "    #Loop over all times\n",
    "    for n in 3:nn\n",
    "        evolve_step!(u, dt, dx, n)\n",
    "    end\n",
    "    return\n",
    "end"
   ]
  },
  {
   "cell_type": "code",
   "execution_count": 377,
   "id": "varying-patch",
   "metadata": {},
   "outputs": [
    {
     "data": {
      "image/png": "[encoded data removed]"
     },
     "execution_count": 377,
     "metadata": {},
     "output_type": "execute_result"
    }
   ],
   "source": [
    "u = Gaussianlike(t,x);\n",
    "evolve!(u, dt, dx)\n",
    "fig = Figure(resolution = (400, 400))\n",
    "ax = Axis(fig[1, 1], xlabel = \"x\", ylabel = \"t\")\n",
    "co = contourf!(vec(x), vec(t), vec(u))\n",
    "Colorbar(fig[1, 2], co)\n",
    "fig"
   ]
  },
  {
   "cell_type": "markdown",
   "id": "married-czech",
   "metadata": {},
   "source": [
    "Boundary condition doesn't match with the properties of the funciton. Here at boundary x=-1 and 1, the function does not have the value 0. Then there is some kind of jumping."
   ]
  },
  {
   "cell_type": "markdown",
   "id": "built-airfare",
   "metadata": {
    "tags": []
   },
   "source": [
    "### 2. Stability limit\n",
    "Vary the time step size `dt`. If you choose `dt` too large, the discrete system will be unstable. What is the stability limit? Why does this happen? How could you avoid this limit?"
   ]
  },
  {
   "cell_type": "markdown",
   "id": "encouraging-nancy",
   "metadata": {},
   "source": [
    "- Consider when we use dt too large (larger than dx). We will investigate through the function `calculate_error` which can determine the error of the solution for Gaussianlike funciton."
   ]
  },
  {
   "cell_type": "code",
   "execution_count": 378,
   "id": "declared-cisco",
   "metadata": {},
   "outputs": [
    {
     "data": {
      "text/plain": [
       "calculate_error (generic function with 1 method)"
      ]
     },
     "execution_count": 378,
     "metadata": {},
     "output_type": "execute_result"
    }
   ],
   "source": [
    "# Calculate error\n",
    "function calculate_error(t, x, u)\n",
    "    ni, nn = size(u)\n",
    "    err = similar(u)\n",
    "    for n in 1:nn, i in 1:ni\n",
    "        err[i,n] = u[i,n] .- A * exp.(-1/2*sin.(2*π*(x[i, n].-t[i, n])).^2) / W^2\n",
    "    end\n",
    "    return err\n",
    "end"
   ]
  },
  {
   "cell_type": "markdown",
   "id": "informative-jacket",
   "metadata": {},
   "source": [
    "- when $dt=dx$"
   ]
  },
  {
   "cell_type": "code",
   "execution_count": 379,
   "id": "standing-claim",
   "metadata": {},
   "outputs": [
    {
     "data": {
      "text/plain": [
       "(0.01, 0.01)"
      ]
     },
     "execution_count": 379,
     "metadata": {},
     "output_type": "execute_result"
    }
   ],
   "source": [
    "nn = 400\n",
    "ni = 200\n",
    "dt = (4*L)/ (nn)\n",
    "dx = (2) / (ni)\n",
    "\n",
    "t, x = coords(nn, ni, dt, dx);\n",
    "(dt,dx)"
   ]
  },
  {
   "cell_type": "code",
   "execution_count": 380,
   "id": "wicked-degree",
   "metadata": {},
   "outputs": [
    {
     "data": {
      "text/plain": [
       "50.000000000000014"
      ]
     },
     "execution_count": 380,
     "metadata": {},
     "output_type": "execute_result"
    }
   ],
   "source": [
    "u = Gaussianlike(t,x);\n",
    "evolve!(u, dt, dx)\n",
    "err = calculate_error(t, x, u)\n",
    "maximum(abs.(err))"
   ]
  },
  {
   "cell_type": "markdown",
   "id": "failing-alloy",
   "metadata": {},
   "source": [
    "- when $dt<dx$"
   ]
  },
  {
   "cell_type": "code",
   "execution_count": 381,
   "id": "honest-michael",
   "metadata": {},
   "outputs": [
    {
     "data": {
      "text/plain": [
       "(0.005, 0.01)"
      ]
     },
     "execution_count": 381,
     "metadata": {},
     "output_type": "execute_result"
    }
   ],
   "source": [
    "nn2 = 800\n",
    "ni2 = 200\n",
    "dt2 = (4*L)/ (nn2)\n",
    "dx2 = 2/ (ni2)\n",
    "\n",
    "t2, x2 = coords(nn2, ni2, dt2, dx2);\n",
    "(dt2,dx2)"
   ]
  },
  {
   "cell_type": "code",
   "execution_count": 382,
   "id": "excessive-smart",
   "metadata": {},
   "outputs": [
    {
     "data": {
      "text/plain": [
       "60.28923235567213"
      ]
     },
     "execution_count": 382,
     "metadata": {},
     "output_type": "execute_result"
    }
   ],
   "source": [
    "u2 = Gaussianlike(t2,x2);\n",
    "evolve!(u2, dt2, dx2)\n",
    "err2 = calculate_error(t2, x2, u2)\n",
    "maximum(abs.(err2))"
   ]
  },
  {
   "cell_type": "markdown",
   "id": "automated-bride",
   "metadata": {},
   "source": [
    "- when $dt>dx$"
   ]
  },
  {
   "cell_type": "code",
   "execution_count": 383,
   "id": "smaller-teddy",
   "metadata": {},
   "outputs": [
    {
     "data": {
      "text/plain": [
       "(0.02, 0.01)"
      ]
     },
     "execution_count": 383,
     "metadata": {},
     "output_type": "execute_result"
    }
   ],
   "source": [
    "nn3 = 200\n",
    "ni3 = 200\n",
    "dt3 = (4*L)/ (nn3)\n",
    "dx3 = 2/ (ni3)\n",
    "\n",
    "t3, x3 = coords(nn3, ni3, dt3, dx3);\n",
    "(dt3,dx3)"
   ]
  },
  {
   "cell_type": "code",
   "execution_count": 384,
   "id": "architectural-omaha",
   "metadata": {
    "tags": []
   },
   "outputs": [
    {
     "data": {
      "text/plain": [
       "8.579970777863622e224"
      ]
     },
     "execution_count": 384,
     "metadata": {},
     "output_type": "execute_result"
    }
   ],
   "source": [
    "u3 = Gaussianlike(t3,x3);\n",
    "evolve!(u3, dt3, dx3)\n",
    "err3 = calculate_error(t3, x3, u3)\n",
    "maximum(abs.(err3))"
   ]
  },
  {
   "cell_type": "markdown",
   "id": "editorial-blair",
   "metadata": {},
   "source": [
    "We can see that when dt is larger than dx, the error is very high. This stability limit can be defined by this situation which means there is some limit that our algorithm fails. This error arises when we use the $dt > dx$ because we can show that the accumulated error related to $\\frac{dt}{dx}$, $\\frac{dt}{dx}*error$, then if we use $\\frac{dt}{dx}<1$, we can avoid the accumulated error."
   ]
  },
  {
   "cell_type": "markdown",
   "id": "toxic-probability",
   "metadata": {},
   "source": [
    "### 3. The energy density \n",
    "The energy density of a scalar wave is `epsilon(t,x) = 1/2 ((d/dt u(t,x))^2 + ((d/dx u(t,x))^2)`. Calculate the energy density as a function of space and time for your solution. Plot the result."
   ]
  },
  {
   "cell_type": "code",
   "execution_count": 385,
   "id": "parental-pastor",
   "metadata": {},
   "outputs": [
    {
     "data": {
      "text/plain": [
       "epsilon (generic function with 1 method)"
      ]
     },
     "execution_count": 385,
     "metadata": {},
     "output_type": "execute_result"
    }
   ],
   "source": [
    "function epsilon(u,dx,dt,nn,ni)\n",
    "    ∂ₜu = copy(u)\n",
    "    ∂ₓu = copy(u)\n",
    "    for i in 1:ni, n in 1:nn\n",
    "        ∂ₓu[i,n] = (u[i+1,n] - u[i,n]) ./ (dx)\n",
    "        ∂ₜu[i,n] = (u[i,n+1] - u[i,n]) ./ (dt)\n",
    "    end\n",
    "    return (∂ₜu.^2 + ∂ₓu.^2)./2\n",
    "end"
   ]
  },
  {
   "cell_type": "code",
   "execution_count": 395,
   "id": "laden-irish",
   "metadata": {},
   "outputs": [
    {
     "data": {
      "text/plain": [
       "(0.01, 0.01)"
      ]
     },
     "execution_count": 395,
     "metadata": {},
     "output_type": "execute_result"
    }
   ],
   "source": [
    "nn = 400\n",
    "ni = 200\n",
    "dt = (4*L)/ (nn)\n",
    "dx = (2) / (ni)\n",
    "\n",
    "t, x = coords(nn, ni, dt, dx);\n",
    "(dt,dx)\n",
    "u = Gaussianlike(t,x)\n",
    "evolve!(u, dt, dx)\n",
    "e = epsilon(u,dx,dt,nn,ni);\n",
    "(dx,dt)"
   ]
  },
  {
   "cell_type": "code",
   "execution_count": 396,
   "id": "korean-business",
   "metadata": {},
   "outputs": [
    {
     "data": {
      "image/png": "[encoded data removed]"
     },
     "execution_count": 396,
     "metadata": {},
     "output_type": "execute_result"
    }
   ],
   "source": [
    "fig = Figure(resolution = (400, 400))\n",
    "ax = Axis(fig[1, 1], xlabel = \"x\", ylabel = \"t\")\n",
    "co = contourf!(vec(x), vec(t), vec(e))\n",
    "Colorbar(fig[1, 2], co)\n",
    "fig"
   ]
  },
  {
   "cell_type": "markdown",
   "id": "suitable-borough",
   "metadata": {},
   "source": [
    "As we can see, the jumping regions make very high derivative. Then, the energy density is very high in that regions"
   ]
  },
  {
   "cell_type": "markdown",
   "id": "tight-porter",
   "metadata": {},
   "source": [
    "### 4. Calculate the total energy\n",
    "To calculate the total energy `E(t)` as a function of time, you need to integrate it over space. One way to do so is using the function below. Calculate and show the total energy `E(t)` as a function of time. How well is the energy conserved? How does this depend on the grid spacings `dx` and `dt`?"
   ]
  },
  {
   "cell_type": "code",
   "execution_count": 397,
   "id": "processed-multiple",
   "metadata": {},
   "outputs": [
    {
     "data": {
      "text/plain": [
       "integrate (generic function with 1 method)"
      ]
     },
     "execution_count": 397,
     "metadata": {},
     "output_type": "execute_result"
    }
   ],
   "source": [
    "# Integrate `epsilon` over space\n",
    "function integrate(epsilon, n, dx)\n",
    "    ni, nn = size(epsilon)\n",
    "    # The boundary points are special; they have a weight of 1/2.\n",
    "    # There are `ni` points overall, and the grid spacing is `dx = 2L/(ni-1)`.\n",
    "    # Integrating the constant function `epsilon=1` thus gives exactly `2L`.\n",
    "    E = epsilon[1, n] / 2\n",
    "    for i in 2:ni-1\n",
    "        E += epsilon[i, n]\n",
    "    end\n",
    "    E += epsilon[ni, n] / 2\n",
    "    # Scale by the grid spacing\n",
    "    E *= dx\n",
    "    return E\n",
    "end"
   ]
  },
  {
   "cell_type": "code",
   "execution_count": 398,
   "id": "indirect-poster",
   "metadata": {},
   "outputs": [
    {
     "data": {
      "text/plain": [
       "(0.01, 0.01)"
      ]
     },
     "execution_count": 398,
     "metadata": {},
     "output_type": "execute_result"
    }
   ],
   "source": [
    "nn = 400\n",
    "ni = 200\n",
    "dt = (4*L)/ (nn)\n",
    "dx = (2) / (ni)\n",
    "\n",
    "t, x = coords(nn, ni, dt, dx);\n",
    "(dt,dx)"
   ]
  },
  {
   "cell_type": "code",
   "execution_count": 399,
   "id": "subjective-organic",
   "metadata": {},
   "outputs": [],
   "source": [
    "n = [i for i in 1:nn]\n",
    "#e = 1 .+ zero(rand(ni,nn))\n",
    "E = integrate(e,n,dx);\n",
    "t = [i * dt for i in 1:nn];"
   ]
  },
  {
   "cell_type": "code",
   "execution_count": 400,
   "id": "trying-planner",
   "metadata": {},
   "outputs": [
    {
     "data": {
      "image/png": "[encoded data removed]"
     },
     "execution_count": 400,
     "metadata": {},
     "output_type": "execute_result"
    }
   ],
   "source": [
    "fig = Figure(resolution = (400, 400))\n",
    "ax = Axis(fig[1, 1], xlabel = \"Time\", ylabel = \"Energy\")\n",
    "#ylims!(ax,19,21)\n",
    "lines!(t[2:nn],E[2:nn])\n",
    "fig"
   ]
  },
  {
   "cell_type": "markdown",
   "id": "crude-fellow",
   "metadata": {},
   "source": [
    "The result has changed if we have a large step size (large dx,dt), and there are some problem when calculate the energy density around the suddenly change of the solution (t= {0,1,2,3})."
   ]
  },
  {
   "cell_type": "markdown",
   "id": "northern-macedonia",
   "metadata": {
    "tags": []
   },
   "source": [
    "***"
   ]
  }
 ],
 "metadata": {
  "kernelspec": {
   "display_name": "Julia 1.8.4",
   "language": "julia",
   "name": "julia-1.8"
  },
  "language_info": {
   "file_extension": ".jl",
   "mimetype": "application/julia",
   "name": "julia",
   "version": "1.8.4"
  }
 },
 "nbformat": 4,
 "nbformat_minor": 5
}
